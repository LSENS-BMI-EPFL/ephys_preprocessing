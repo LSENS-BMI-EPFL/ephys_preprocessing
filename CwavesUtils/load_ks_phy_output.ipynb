{
 "cells": [
  {
   "cell_type": "code",
   "execution_count": 5,
   "id": "2f1e7071",
   "metadata": {},
   "outputs": [],
   "source": [
    "import os\n",
    "import pandas as pd\n",
    "import numpy as np\n",
    "import matplotlib.pyplot as plt"
   ]
  },
  {
   "cell_type": "code",
   "execution_count": 14,
   "id": "81aee8f7",
   "metadata": {},
   "outputs": [
    {
     "data": {
      "text/plain": [
       "'M:\\\\analysis\\\\Axel_Bisi\\\\mice_data\\\\AB007\\\\Recording\\\\Ephys\\\\AB007_g0\\\\AB007_g0_imec0\\\\ks25'"
      ]
     },
     "execution_count": 14,
     "metadata": {},
     "output_type": "execute_result"
    }
   ],
   "source": [
    "data_path = 'M:\\\\analysis\\Axel_Bisi\\mice_data\\AB007\\Recording\\Ephys\\AB007_g0\\AB007_g0_imec0\\ks25'\n",
    "data_path"
   ]
  },
  {
   "cell_type": "markdown",
   "id": "1b9f1021",
   "metadata": {},
   "source": [
    "#### spike_cluster.npy\n",
    "Cluster for each spike"
   ]
  },
  {
   "cell_type": "code",
   "execution_count": 21,
   "id": "223d9e2c",
   "metadata": {},
   "outputs": [
    {
     "data": {
      "text/html": [
       "<div>\n",
       "<style scoped>\n",
       "    .dataframe tbody tr th:only-of-type {\n",
       "        vertical-align: middle;\n",
       "    }\n",
       "\n",
       "    .dataframe tbody tr th {\n",
       "        vertical-align: top;\n",
       "    }\n",
       "\n",
       "    .dataframe thead th {\n",
       "        text-align: right;\n",
       "    }\n",
       "</style>\n",
       "<table border=\"1\" class=\"dataframe\">\n",
       "  <thead>\n",
       "    <tr style=\"text-align: right;\">\n",
       "      <th></th>\n",
       "      <th>cluster</th>\n",
       "    </tr>\n",
       "  </thead>\n",
       "  <tbody>\n",
       "    <tr>\n",
       "      <th>0</th>\n",
       "      <td>198</td>\n",
       "    </tr>\n",
       "    <tr>\n",
       "      <th>1</th>\n",
       "      <td>267</td>\n",
       "    </tr>\n",
       "    <tr>\n",
       "      <th>2</th>\n",
       "      <td>187</td>\n",
       "    </tr>\n",
       "    <tr>\n",
       "      <th>3</th>\n",
       "      <td>183</td>\n",
       "    </tr>\n",
       "    <tr>\n",
       "      <th>4</th>\n",
       "      <td>33</td>\n",
       "    </tr>\n",
       "  </tbody>\n",
       "</table>\n",
       "</div>"
      ],
      "text/plain": [
       "   cluster\n",
       "0      198\n",
       "1      267\n",
       "2      187\n",
       "3      183\n",
       "4       33"
      ]
     },
     "execution_count": 21,
     "metadata": {},
     "output_type": "execute_result"
    }
   ],
   "source": [
    "spk_clusters = np.load(os.path.join(data_path,'spike_clusters.npy'))\n",
    "df = pd.DataFrame(spk_clusters, columns=['cluster'])\n",
    "df.head()"
   ]
  },
  {
   "cell_type": "code",
   "execution_count": 16,
   "id": "df31d5a4",
   "metadata": {},
   "outputs": [
    {
     "data": {
      "text/plain": [
       "(297,)"
      ]
     },
     "execution_count": 16,
     "metadata": {},
     "output_type": "execute_result"
    }
   ],
   "source": [
    "np.unique(df['cluster'].values).shape"
   ]
  },
  {
   "cell_type": "code",
   "execution_count": 18,
   "id": "59d76a27",
   "metadata": {},
   "outputs": [],
   "source": [
    "np.save(os.path.join(data_path,'clus_lbl.npy'), df['cluster'].values)"
   ]
  },
  {
   "cell_type": "markdown",
   "id": "7c770511",
   "metadata": {},
   "source": [
    "#### spike_times.npy\n",
    "Spikes times for each spike"
   ]
  },
  {
   "cell_type": "code",
   "execution_count": 28,
   "id": "c18b20f3",
   "metadata": {},
   "outputs": [
    {
     "data": {
      "text/html": [
       "<div>\n",
       "<style scoped>\n",
       "    .dataframe tbody tr th:only-of-type {\n",
       "        vertical-align: middle;\n",
       "    }\n",
       "\n",
       "    .dataframe tbody tr th {\n",
       "        vertical-align: top;\n",
       "    }\n",
       "\n",
       "    .dataframe thead th {\n",
       "        text-align: right;\n",
       "    }\n",
       "</style>\n",
       "<table border=\"1\" class=\"dataframe\">\n",
       "  <thead>\n",
       "    <tr style=\"text-align: right;\">\n",
       "      <th></th>\n",
       "      <th>ts</th>\n",
       "    </tr>\n",
       "  </thead>\n",
       "  <tbody>\n",
       "    <tr>\n",
       "      <th>0</th>\n",
       "      <td>215</td>\n",
       "    </tr>\n",
       "    <tr>\n",
       "      <th>1</th>\n",
       "      <td>221</td>\n",
       "    </tr>\n",
       "    <tr>\n",
       "      <th>2</th>\n",
       "      <td>229</td>\n",
       "    </tr>\n",
       "    <tr>\n",
       "      <th>3</th>\n",
       "      <td>269</td>\n",
       "    </tr>\n",
       "    <tr>\n",
       "      <th>4</th>\n",
       "      <td>272</td>\n",
       "    </tr>\n",
       "  </tbody>\n",
       "</table>\n",
       "</div>"
      ],
      "text/plain": [
       "    ts\n",
       "0  215\n",
       "1  221\n",
       "2  229\n",
       "3  269\n",
       "4  272"
      ]
     },
     "execution_count": 28,
     "metadata": {},
     "output_type": "execute_result"
    }
   ],
   "source": [
    "spk_times = np.load(os.path.join(data_path,'spike_times.npy'))\n",
    "df = pd.DataFrame(spk_times, columns = ['ts']) #timestamps column\n",
    "df.head()"
   ]
  },
  {
   "cell_type": "code",
   "execution_count": 29,
   "id": "a8d0b228",
   "metadata": {},
   "outputs": [],
   "source": [
    "np.save(os.path.join(data_path,'clus_time.npy'), df['ts'].values)"
   ]
  },
  {
   "cell_type": "markdown",
   "id": "9f6b6e1a",
   "metadata": {},
   "source": [
    "#### cluster_group.tsv\n",
    "Cluster label (only curated and confirmed!) for each cluster id. If not validated by then there are less clusters than cluster id generated by KS."
   ]
  },
  {
   "cell_type": "code",
   "execution_count": 31,
   "id": "c9570301",
   "metadata": {},
   "outputs": [
    {
     "data": {
      "text/html": [
       "<div>\n",
       "<style scoped>\n",
       "    .dataframe tbody tr th:only-of-type {\n",
       "        vertical-align: middle;\n",
       "    }\n",
       "\n",
       "    .dataframe tbody tr th {\n",
       "        vertical-align: top;\n",
       "    }\n",
       "\n",
       "    .dataframe thead th {\n",
       "        text-align: right;\n",
       "    }\n",
       "</style>\n",
       "<table border=\"1\" class=\"dataframe\">\n",
       "  <thead>\n",
       "    <tr style=\"text-align: right;\">\n",
       "      <th></th>\n",
       "      <th>cluster_id</th>\n",
       "      <th>group</th>\n",
       "    </tr>\n",
       "  </thead>\n",
       "  <tbody>\n",
       "    <tr>\n",
       "      <th>0</th>\n",
       "      <td>0</td>\n",
       "      <td>mua</td>\n",
       "    </tr>\n",
       "    <tr>\n",
       "      <th>1</th>\n",
       "      <td>1</td>\n",
       "      <td>mua</td>\n",
       "    </tr>\n",
       "    <tr>\n",
       "      <th>2</th>\n",
       "      <td>2</td>\n",
       "      <td>mua</td>\n",
       "    </tr>\n",
       "    <tr>\n",
       "      <th>3</th>\n",
       "      <td>3</td>\n",
       "      <td>mua</td>\n",
       "    </tr>\n",
       "    <tr>\n",
       "      <th>4</th>\n",
       "      <td>4</td>\n",
       "      <td>mua</td>\n",
       "    </tr>\n",
       "    <tr>\n",
       "      <th>...</th>\n",
       "      <td>...</td>\n",
       "      <td>...</td>\n",
       "    </tr>\n",
       "    <tr>\n",
       "      <th>292</th>\n",
       "      <td>341</td>\n",
       "      <td>good</td>\n",
       "    </tr>\n",
       "    <tr>\n",
       "      <th>293</th>\n",
       "      <td>342</td>\n",
       "      <td>good</td>\n",
       "    </tr>\n",
       "    <tr>\n",
       "      <th>294</th>\n",
       "      <td>343</td>\n",
       "      <td>good</td>\n",
       "    </tr>\n",
       "    <tr>\n",
       "      <th>295</th>\n",
       "      <td>346</td>\n",
       "      <td>mua</td>\n",
       "    </tr>\n",
       "    <tr>\n",
       "      <th>296</th>\n",
       "      <td>347</td>\n",
       "      <td>good</td>\n",
       "    </tr>\n",
       "  </tbody>\n",
       "</table>\n",
       "<p>297 rows × 2 columns</p>\n",
       "</div>"
      ],
      "text/plain": [
       "     cluster_id group\n",
       "0             0   mua\n",
       "1             1   mua\n",
       "2             2   mua\n",
       "3             3   mua\n",
       "4             4   mua\n",
       "..          ...   ...\n",
       "292         341  good\n",
       "293         342  good\n",
       "294         343  good\n",
       "295         346   mua\n",
       "296         347  good\n",
       "\n",
       "[297 rows x 2 columns]"
      ]
     },
     "execution_count": 31,
     "metadata": {},
     "output_type": "execute_result"
    }
   ],
   "source": [
    "clus_group = pd.read_csv(os.path.join(data_path,'cluster_group.tsv'), sep='\\t')\n",
    "clus_group"
   ]
  },
  {
   "cell_type": "code",
   "execution_count": 32,
   "id": "e767e1d3",
   "metadata": {},
   "outputs": [
    {
     "data": {
      "text/plain": [
       "(array(['good', 'mua', 'noise'], dtype=object),\n",
       " array([ 72, 216,   9], dtype=int64))"
      ]
     },
     "execution_count": 32,
     "metadata": {},
     "output_type": "execute_result"
    }
   ],
   "source": [
    "np.unique(clus_group.group, return_counts=True)"
   ]
  },
  {
   "cell_type": "markdown",
   "id": "4937a1fa",
   "metadata": {},
   "source": [
    "#### cluster_KSlabel.tsv\n",
    "KS output label for all clusters."
   ]
  },
  {
   "cell_type": "code",
   "execution_count": 33,
   "id": "caa93ca1",
   "metadata": {},
   "outputs": [
    {
     "data": {
      "text/html": [
       "<div>\n",
       "<style scoped>\n",
       "    .dataframe tbody tr th:only-of-type {\n",
       "        vertical-align: middle;\n",
       "    }\n",
       "\n",
       "    .dataframe tbody tr th {\n",
       "        vertical-align: top;\n",
       "    }\n",
       "\n",
       "    .dataframe thead th {\n",
       "        text-align: right;\n",
       "    }\n",
       "</style>\n",
       "<table border=\"1\" class=\"dataframe\">\n",
       "  <thead>\n",
       "    <tr style=\"text-align: right;\">\n",
       "      <th></th>\n",
       "      <th>cluster_id</th>\n",
       "      <th>KSLabel</th>\n",
       "    </tr>\n",
       "  </thead>\n",
       "  <tbody>\n",
       "    <tr>\n",
       "      <th>0</th>\n",
       "      <td>0</td>\n",
       "      <td>mua</td>\n",
       "    </tr>\n",
       "    <tr>\n",
       "      <th>1</th>\n",
       "      <td>1</td>\n",
       "      <td>mua</td>\n",
       "    </tr>\n",
       "    <tr>\n",
       "      <th>2</th>\n",
       "      <td>2</td>\n",
       "      <td>mua</td>\n",
       "    </tr>\n",
       "    <tr>\n",
       "      <th>3</th>\n",
       "      <td>3</td>\n",
       "      <td>mua</td>\n",
       "    </tr>\n",
       "    <tr>\n",
       "      <th>4</th>\n",
       "      <td>4</td>\n",
       "      <td>mua</td>\n",
       "    </tr>\n",
       "    <tr>\n",
       "      <th>...</th>\n",
       "      <td>...</td>\n",
       "      <td>...</td>\n",
       "    </tr>\n",
       "    <tr>\n",
       "      <th>284</th>\n",
       "      <td>341</td>\n",
       "      <td>mua</td>\n",
       "    </tr>\n",
       "    <tr>\n",
       "      <th>285</th>\n",
       "      <td>342</td>\n",
       "      <td>mua</td>\n",
       "    </tr>\n",
       "    <tr>\n",
       "      <th>286</th>\n",
       "      <td>343</td>\n",
       "      <td>mua</td>\n",
       "    </tr>\n",
       "    <tr>\n",
       "      <th>287</th>\n",
       "      <td>346</td>\n",
       "      <td>mua</td>\n",
       "    </tr>\n",
       "    <tr>\n",
       "      <th>288</th>\n",
       "      <td>347</td>\n",
       "      <td>mua</td>\n",
       "    </tr>\n",
       "  </tbody>\n",
       "</table>\n",
       "<p>289 rows × 2 columns</p>\n",
       "</div>"
      ],
      "text/plain": [
       "     cluster_id KSLabel\n",
       "0             0     mua\n",
       "1             1     mua\n",
       "2             2     mua\n",
       "3             3     mua\n",
       "4             4     mua\n",
       "..          ...     ...\n",
       "284         341     mua\n",
       "285         342     mua\n",
       "286         343     mua\n",
       "287         346     mua\n",
       "288         347     mua\n",
       "\n",
       "[289 rows x 2 columns]"
      ]
     },
     "execution_count": 33,
     "metadata": {},
     "output_type": "execute_result"
    }
   ],
   "source": [
    "clus_ks =  pd.read_csv(os.path.join(data_path,'cluster_KSLabel.tsv'), sep='\\t')\n",
    "clus_ks"
   ]
  },
  {
   "cell_type": "code",
   "execution_count": 34,
   "id": "1fb416a9",
   "metadata": {},
   "outputs": [
    {
     "data": {
      "text/plain": [
       "(array(['good', 'mua'], dtype=object), array([ 59, 230], dtype=int64))"
      ]
     },
     "execution_count": 34,
     "metadata": {},
     "output_type": "execute_result"
    }
   ],
   "source": [
    "np.unique(clus_ks.KSLabel, return_counts=True)"
   ]
  },
  {
   "cell_type": "markdown",
   "id": "b943d33a",
   "metadata": {},
   "source": [
    "#### cluster_info.tsv\n",
    "Info displayed on Phy. Also includes number of spikes and peak channel number for C_waves."
   ]
  },
  {
   "cell_type": "code",
   "execution_count": 47,
   "id": "df9e5296",
   "metadata": {},
   "outputs": [
    {
     "data": {
      "text/html": [
       "<div>\n",
       "<style scoped>\n",
       "    .dataframe tbody tr th:only-of-type {\n",
       "        vertical-align: middle;\n",
       "    }\n",
       "\n",
       "    .dataframe tbody tr th {\n",
       "        vertical-align: top;\n",
       "    }\n",
       "\n",
       "    .dataframe thead th {\n",
       "        text-align: right;\n",
       "    }\n",
       "</style>\n",
       "<table border=\"1\" class=\"dataframe\">\n",
       "  <thead>\n",
       "    <tr style=\"text-align: right;\">\n",
       "      <th></th>\n",
       "      <th>cluster_id</th>\n",
       "      <th>Amplitude</th>\n",
       "      <th>ContamPct</th>\n",
       "      <th>KSLabel</th>\n",
       "      <th>amp</th>\n",
       "      <th>ch</th>\n",
       "      <th>depth</th>\n",
       "      <th>fr</th>\n",
       "      <th>group</th>\n",
       "      <th>n_spikes</th>\n",
       "      <th>sh</th>\n",
       "    </tr>\n",
       "  </thead>\n",
       "  <tbody>\n",
       "    <tr>\n",
       "      <th>0</th>\n",
       "      <td>0</td>\n",
       "      <td>1181.6</td>\n",
       "      <td>77.7</td>\n",
       "      <td>mua</td>\n",
       "      <td>78.235954</td>\n",
       "      <td>0</td>\n",
       "      <td>20.0</td>\n",
       "      <td>7.031047</td>\n",
       "      <td>mua</td>\n",
       "      <td>38913</td>\n",
       "      <td>0</td>\n",
       "    </tr>\n",
       "    <tr>\n",
       "      <th>1</th>\n",
       "      <td>1</td>\n",
       "      <td>1334.6</td>\n",
       "      <td>0.0</td>\n",
       "      <td>mua</td>\n",
       "      <td>79.419922</td>\n",
       "      <td>0</td>\n",
       "      <td>20.0</td>\n",
       "      <td>0.002891</td>\n",
       "      <td>mua</td>\n",
       "      <td>16</td>\n",
       "      <td>0</td>\n",
       "    </tr>\n",
       "    <tr>\n",
       "      <th>2</th>\n",
       "      <td>2</td>\n",
       "      <td>1088.7</td>\n",
       "      <td>0.0</td>\n",
       "      <td>mua</td>\n",
       "      <td>81.428429</td>\n",
       "      <td>0</td>\n",
       "      <td>20.0</td>\n",
       "      <td>0.003614</td>\n",
       "      <td>mua</td>\n",
       "      <td>20</td>\n",
       "      <td>0</td>\n",
       "    </tr>\n",
       "    <tr>\n",
       "      <th>3</th>\n",
       "      <td>3</td>\n",
       "      <td>737.8</td>\n",
       "      <td>143.8</td>\n",
       "      <td>mua</td>\n",
       "      <td>58.966412</td>\n",
       "      <td>25</td>\n",
       "      <td>260.0</td>\n",
       "      <td>0.218269</td>\n",
       "      <td>mua</td>\n",
       "      <td>1208</td>\n",
       "      <td>0</td>\n",
       "    </tr>\n",
       "    <tr>\n",
       "      <th>4</th>\n",
       "      <td>4</td>\n",
       "      <td>963.8</td>\n",
       "      <td>49.0</td>\n",
       "      <td>mua</td>\n",
       "      <td>73.670265</td>\n",
       "      <td>2</td>\n",
       "      <td>40.0</td>\n",
       "      <td>4.245044</td>\n",
       "      <td>mua</td>\n",
       "      <td>23494</td>\n",
       "      <td>0</td>\n",
       "    </tr>\n",
       "    <tr>\n",
       "      <th>...</th>\n",
       "      <td>...</td>\n",
       "      <td>...</td>\n",
       "      <td>...</td>\n",
       "      <td>...</td>\n",
       "      <td>...</td>\n",
       "      <td>...</td>\n",
       "      <td>...</td>\n",
       "      <td>...</td>\n",
       "      <td>...</td>\n",
       "      <td>...</td>\n",
       "      <td>...</td>\n",
       "    </tr>\n",
       "    <tr>\n",
       "      <th>292</th>\n",
       "      <td>341</td>\n",
       "      <td>823.4</td>\n",
       "      <td>27.0</td>\n",
       "      <td>mua</td>\n",
       "      <td>67.751808</td>\n",
       "      <td>10</td>\n",
       "      <td>120.0</td>\n",
       "      <td>0.258020</td>\n",
       "      <td>good</td>\n",
       "      <td>1428</td>\n",
       "      <td>0</td>\n",
       "    </tr>\n",
       "    <tr>\n",
       "      <th>293</th>\n",
       "      <td>342</td>\n",
       "      <td>823.4</td>\n",
       "      <td>27.0</td>\n",
       "      <td>mua</td>\n",
       "      <td>67.751808</td>\n",
       "      <td>10</td>\n",
       "      <td>120.0</td>\n",
       "      <td>6.273610</td>\n",
       "      <td>good</td>\n",
       "      <td>34721</td>\n",
       "      <td>0</td>\n",
       "    </tr>\n",
       "    <tr>\n",
       "      <th>294</th>\n",
       "      <td>343</td>\n",
       "      <td>790.9</td>\n",
       "      <td>25.7</td>\n",
       "      <td>mua</td>\n",
       "      <td>65.629524</td>\n",
       "      <td>0</td>\n",
       "      <td>20.0</td>\n",
       "      <td>5.423300</td>\n",
       "      <td>good</td>\n",
       "      <td>30015</td>\n",
       "      <td>0</td>\n",
       "    </tr>\n",
       "    <tr>\n",
       "      <th>295</th>\n",
       "      <td>346</td>\n",
       "      <td>3235.8</td>\n",
       "      <td>27.8</td>\n",
       "      <td>mua</td>\n",
       "      <td>105.748535</td>\n",
       "      <td>69</td>\n",
       "      <td>700.0</td>\n",
       "      <td>0.063060</td>\n",
       "      <td>mua</td>\n",
       "      <td>349</td>\n",
       "      <td>0</td>\n",
       "    </tr>\n",
       "    <tr>\n",
       "      <th>296</th>\n",
       "      <td>347</td>\n",
       "      <td>3235.8</td>\n",
       "      <td>27.8</td>\n",
       "      <td>mua</td>\n",
       "      <td>105.748535</td>\n",
       "      <td>69</td>\n",
       "      <td>700.0</td>\n",
       "      <td>2.033625</td>\n",
       "      <td>good</td>\n",
       "      <td>11255</td>\n",
       "      <td>0</td>\n",
       "    </tr>\n",
       "  </tbody>\n",
       "</table>\n",
       "<p>297 rows × 11 columns</p>\n",
       "</div>"
      ],
      "text/plain": [
       "     cluster_id  Amplitude  ContamPct KSLabel         amp  ch  depth  \\\n",
       "0             0     1181.6       77.7     mua   78.235954   0   20.0   \n",
       "1             1     1334.6        0.0     mua   79.419922   0   20.0   \n",
       "2             2     1088.7        0.0     mua   81.428429   0   20.0   \n",
       "3             3      737.8      143.8     mua   58.966412  25  260.0   \n",
       "4             4      963.8       49.0     mua   73.670265   2   40.0   \n",
       "..          ...        ...        ...     ...         ...  ..    ...   \n",
       "292         341      823.4       27.0     mua   67.751808  10  120.0   \n",
       "293         342      823.4       27.0     mua   67.751808  10  120.0   \n",
       "294         343      790.9       25.7     mua   65.629524   0   20.0   \n",
       "295         346     3235.8       27.8     mua  105.748535  69  700.0   \n",
       "296         347     3235.8       27.8     mua  105.748535  69  700.0   \n",
       "\n",
       "           fr group  n_spikes  sh  \n",
       "0    7.031047   mua     38913   0  \n",
       "1    0.002891   mua        16   0  \n",
       "2    0.003614   mua        20   0  \n",
       "3    0.218269   mua      1208   0  \n",
       "4    4.245044   mua     23494   0  \n",
       "..        ...   ...       ...  ..  \n",
       "292  0.258020  good      1428   0  \n",
       "293  6.273610  good     34721   0  \n",
       "294  5.423300  good     30015   0  \n",
       "295  0.063060   mua       349   0  \n",
       "296  2.033625  good     11255   0  \n",
       "\n",
       "[297 rows x 11 columns]"
      ]
     },
     "execution_count": 47,
     "metadata": {},
     "output_type": "execute_result"
    }
   ],
   "source": [
    "clus_info = pd.read_csv(os.path.join(data_path,'cluster_info.tsv'), sep='\\t')\n",
    "clus_info"
   ]
  },
  {
   "cell_type": "code",
   "execution_count": 51,
   "id": "72126ade",
   "metadata": {},
   "outputs": [
    {
     "data": {
      "text/plain": [
       "(297,)"
      ]
     },
     "execution_count": 51,
     "metadata": {},
     "output_type": "execute_result"
    }
   ],
   "source": [
    "np.unique(clus_info.cluster_id).shape"
   ]
  },
  {
   "cell_type": "code",
   "execution_count": 49,
   "id": "a1bf246d",
   "metadata": {},
   "outputs": [
    {
     "data": {
      "text/html": [
       "<div>\n",
       "<style scoped>\n",
       "    .dataframe tbody tr th:only-of-type {\n",
       "        vertical-align: middle;\n",
       "    }\n",
       "\n",
       "    .dataframe tbody tr th {\n",
       "        vertical-align: top;\n",
       "    }\n",
       "\n",
       "    .dataframe thead th {\n",
       "        text-align: right;\n",
       "    }\n",
       "</style>\n",
       "<table border=\"1\" class=\"dataframe\">\n",
       "  <thead>\n",
       "    <tr style=\"text-align: right;\">\n",
       "      <th></th>\n",
       "      <th>cluster_id</th>\n",
       "      <th>Amplitude</th>\n",
       "      <th>ContamPct</th>\n",
       "      <th>KSLabel</th>\n",
       "      <th>amp</th>\n",
       "      <th>ch</th>\n",
       "      <th>depth</th>\n",
       "      <th>fr</th>\n",
       "      <th>group</th>\n",
       "      <th>n_spikes</th>\n",
       "      <th>sh</th>\n",
       "    </tr>\n",
       "  </thead>\n",
       "  <tbody>\n",
       "    <tr>\n",
       "      <th>140</th>\n",
       "      <td>151</td>\n",
       "      <td>5179.3</td>\n",
       "      <td>8.0</td>\n",
       "      <td>good</td>\n",
       "      <td>123.251617</td>\n",
       "      <td>106</td>\n",
       "      <td>1080.0</td>\n",
       "      <td>0.782552</td>\n",
       "      <td>good</td>\n",
       "      <td>4331</td>\n",
       "      <td>0</td>\n",
       "    </tr>\n",
       "  </tbody>\n",
       "</table>\n",
       "</div>"
      ],
      "text/plain": [
       "     cluster_id  Amplitude  ContamPct KSLabel         amp   ch   depth  \\\n",
       "140         151     5179.3        8.0    good  123.251617  106  1080.0   \n",
       "\n",
       "           fr group  n_spikes  sh  \n",
       "140  0.782552  good      4331   0  "
      ]
     },
     "execution_count": 49,
     "metadata": {},
     "output_type": "execute_result"
    }
   ],
   "source": [
    "clus_info[clus_info['cluster_id']==151]"
   ]
  },
  {
   "cell_type": "markdown",
   "id": "d3252bfa",
   "metadata": {},
   "source": [
    "There are missing cluster ids, thus the total row number N is lower than max cluster ID number... hence mismatch.\n",
    "The missing cluster ids are:"
   ]
  },
  {
   "cell_type": "code",
   "execution_count": 52,
   "id": "a3c5ca84",
   "metadata": {},
   "outputs": [
    {
     "data": {
      "text/plain": [
       "array([  5,  13,  21,  24,  40,  42,  43,  88,  90,  96, 117, 173, 190,\n",
       "       192, 197, 208, 222, 237, 238, 239, 244, 245, 251, 283, 287, 293,\n",
       "       294, 296, 303, 309, 310, 312, 313, 314, 315, 316, 319, 321, 322,\n",
       "       323, 324, 325, 327, 328, 330, 332, 334, 337, 338, 344, 345])"
      ]
     },
     "execution_count": 52,
     "metadata": {},
     "output_type": "execute_result"
    }
   ],
   "source": [
    "missing_cluster_ids = np.asarray([i for i in range(np.max(clus_info.cluster_id)) if i not in np.unique(clus_info.cluster_id)])\n",
    "missing_cluster_ids"
   ]
  },
  {
   "cell_type": "markdown",
   "id": "50d5bf52",
   "metadata": {},
   "source": [
    "Fill in with missing ids with zeroes... (nan gives weird negative numbers when loading table) so that it matches C_waves requirement to have a cluster ID <-> row ID mapping\n"
   ]
  },
  {
   "cell_type": "code",
   "execution_count": 55,
   "id": "4522109b",
   "metadata": {},
   "outputs": [],
   "source": [
    "#First set index to cluster_id\n",
    "clus_info.set_index(keys='cluster_id', drop=False, inplace=True)"
   ]
  },
  {
   "cell_type": "code",
   "execution_count": 56,
   "id": "43d26667",
   "metadata": {},
   "outputs": [
    {
     "data": {
      "text/html": [
       "<div>\n",
       "<style scoped>\n",
       "    .dataframe tbody tr th:only-of-type {\n",
       "        vertical-align: middle;\n",
       "    }\n",
       "\n",
       "    .dataframe tbody tr th {\n",
       "        vertical-align: top;\n",
       "    }\n",
       "\n",
       "    .dataframe thead th {\n",
       "        text-align: right;\n",
       "    }\n",
       "</style>\n",
       "<table border=\"1\" class=\"dataframe\">\n",
       "  <thead>\n",
       "    <tr style=\"text-align: right;\">\n",
       "      <th></th>\n",
       "      <th>cluster_id</th>\n",
       "      <th>Amplitude</th>\n",
       "      <th>ContamPct</th>\n",
       "      <th>KSLabel</th>\n",
       "      <th>amp</th>\n",
       "      <th>ch</th>\n",
       "      <th>depth</th>\n",
       "      <th>fr</th>\n",
       "      <th>group</th>\n",
       "      <th>n_spikes</th>\n",
       "      <th>sh</th>\n",
       "    </tr>\n",
       "    <tr>\n",
       "      <th>cluster_id</th>\n",
       "      <th></th>\n",
       "      <th></th>\n",
       "      <th></th>\n",
       "      <th></th>\n",
       "      <th></th>\n",
       "      <th></th>\n",
       "      <th></th>\n",
       "      <th></th>\n",
       "      <th></th>\n",
       "      <th></th>\n",
       "      <th></th>\n",
       "    </tr>\n",
       "  </thead>\n",
       "  <tbody>\n",
       "    <tr>\n",
       "      <th>0</th>\n",
       "      <td>0</td>\n",
       "      <td>1181.6</td>\n",
       "      <td>77.7</td>\n",
       "      <td>mua</td>\n",
       "      <td>78.235954</td>\n",
       "      <td>0</td>\n",
       "      <td>20.0</td>\n",
       "      <td>7.031047</td>\n",
       "      <td>mua</td>\n",
       "      <td>38913</td>\n",
       "      <td>0</td>\n",
       "    </tr>\n",
       "    <tr>\n",
       "      <th>1</th>\n",
       "      <td>1</td>\n",
       "      <td>1334.6</td>\n",
       "      <td>0.0</td>\n",
       "      <td>mua</td>\n",
       "      <td>79.419922</td>\n",
       "      <td>0</td>\n",
       "      <td>20.0</td>\n",
       "      <td>0.002891</td>\n",
       "      <td>mua</td>\n",
       "      <td>16</td>\n",
       "      <td>0</td>\n",
       "    </tr>\n",
       "    <tr>\n",
       "      <th>2</th>\n",
       "      <td>2</td>\n",
       "      <td>1088.7</td>\n",
       "      <td>0.0</td>\n",
       "      <td>mua</td>\n",
       "      <td>81.428429</td>\n",
       "      <td>0</td>\n",
       "      <td>20.0</td>\n",
       "      <td>0.003614</td>\n",
       "      <td>mua</td>\n",
       "      <td>20</td>\n",
       "      <td>0</td>\n",
       "    </tr>\n",
       "    <tr>\n",
       "      <th>3</th>\n",
       "      <td>3</td>\n",
       "      <td>737.8</td>\n",
       "      <td>143.8</td>\n",
       "      <td>mua</td>\n",
       "      <td>58.966412</td>\n",
       "      <td>25</td>\n",
       "      <td>260.0</td>\n",
       "      <td>0.218269</td>\n",
       "      <td>mua</td>\n",
       "      <td>1208</td>\n",
       "      <td>0</td>\n",
       "    </tr>\n",
       "    <tr>\n",
       "      <th>4</th>\n",
       "      <td>4</td>\n",
       "      <td>963.8</td>\n",
       "      <td>49.0</td>\n",
       "      <td>mua</td>\n",
       "      <td>73.670265</td>\n",
       "      <td>2</td>\n",
       "      <td>40.0</td>\n",
       "      <td>4.245044</td>\n",
       "      <td>mua</td>\n",
       "      <td>23494</td>\n",
       "      <td>0</td>\n",
       "    </tr>\n",
       "    <tr>\n",
       "      <th>...</th>\n",
       "      <td>...</td>\n",
       "      <td>...</td>\n",
       "      <td>...</td>\n",
       "      <td>...</td>\n",
       "      <td>...</td>\n",
       "      <td>...</td>\n",
       "      <td>...</td>\n",
       "      <td>...</td>\n",
       "      <td>...</td>\n",
       "      <td>...</td>\n",
       "      <td>...</td>\n",
       "    </tr>\n",
       "    <tr>\n",
       "      <th>343</th>\n",
       "      <td>343</td>\n",
       "      <td>790.9</td>\n",
       "      <td>25.7</td>\n",
       "      <td>mua</td>\n",
       "      <td>65.629524</td>\n",
       "      <td>0</td>\n",
       "      <td>20.0</td>\n",
       "      <td>5.423300</td>\n",
       "      <td>good</td>\n",
       "      <td>30015</td>\n",
       "      <td>0</td>\n",
       "    </tr>\n",
       "    <tr>\n",
       "      <th>344</th>\n",
       "      <td>0</td>\n",
       "      <td>0.0</td>\n",
       "      <td>0.0</td>\n",
       "      <td>0</td>\n",
       "      <td>0.000000</td>\n",
       "      <td>0</td>\n",
       "      <td>0.0</td>\n",
       "      <td>0.000000</td>\n",
       "      <td>0</td>\n",
       "      <td>0</td>\n",
       "      <td>0</td>\n",
       "    </tr>\n",
       "    <tr>\n",
       "      <th>345</th>\n",
       "      <td>0</td>\n",
       "      <td>0.0</td>\n",
       "      <td>0.0</td>\n",
       "      <td>0</td>\n",
       "      <td>0.000000</td>\n",
       "      <td>0</td>\n",
       "      <td>0.0</td>\n",
       "      <td>0.000000</td>\n",
       "      <td>0</td>\n",
       "      <td>0</td>\n",
       "      <td>0</td>\n",
       "    </tr>\n",
       "    <tr>\n",
       "      <th>346</th>\n",
       "      <td>346</td>\n",
       "      <td>3235.8</td>\n",
       "      <td>27.8</td>\n",
       "      <td>mua</td>\n",
       "      <td>105.748535</td>\n",
       "      <td>69</td>\n",
       "      <td>700.0</td>\n",
       "      <td>0.063060</td>\n",
       "      <td>mua</td>\n",
       "      <td>349</td>\n",
       "      <td>0</td>\n",
       "    </tr>\n",
       "    <tr>\n",
       "      <th>347</th>\n",
       "      <td>347</td>\n",
       "      <td>3235.8</td>\n",
       "      <td>27.8</td>\n",
       "      <td>mua</td>\n",
       "      <td>105.748535</td>\n",
       "      <td>69</td>\n",
       "      <td>700.0</td>\n",
       "      <td>2.033625</td>\n",
       "      <td>good</td>\n",
       "      <td>11255</td>\n",
       "      <td>0</td>\n",
       "    </tr>\n",
       "  </tbody>\n",
       "</table>\n",
       "<p>348 rows × 11 columns</p>\n",
       "</div>"
      ],
      "text/plain": [
       "            cluster_id  Amplitude  ContamPct KSLabel         amp  ch  depth  \\\n",
       "cluster_id                                                                    \n",
       "0                    0     1181.6       77.7     mua   78.235954   0   20.0   \n",
       "1                    1     1334.6        0.0     mua   79.419922   0   20.0   \n",
       "2                    2     1088.7        0.0     mua   81.428429   0   20.0   \n",
       "3                    3      737.8      143.8     mua   58.966412  25  260.0   \n",
       "4                    4      963.8       49.0     mua   73.670265   2   40.0   \n",
       "...                ...        ...        ...     ...         ...  ..    ...   \n",
       "343                343      790.9       25.7     mua   65.629524   0   20.0   \n",
       "344                  0        0.0        0.0       0    0.000000   0    0.0   \n",
       "345                  0        0.0        0.0       0    0.000000   0    0.0   \n",
       "346                346     3235.8       27.8     mua  105.748535  69  700.0   \n",
       "347                347     3235.8       27.8     mua  105.748535  69  700.0   \n",
       "\n",
       "                  fr group  n_spikes  sh  \n",
       "cluster_id                                \n",
       "0           7.031047   mua     38913   0  \n",
       "1           0.002891   mua        16   0  \n",
       "2           0.003614   mua        20   0  \n",
       "3           0.218269   mua      1208   0  \n",
       "4           4.245044   mua     23494   0  \n",
       "...              ...   ...       ...  ..  \n",
       "343         5.423300  good     30015   0  \n",
       "344         0.000000     0         0   0  \n",
       "345         0.000000     0         0   0  \n",
       "346         0.063060   mua       349   0  \n",
       "347         2.033625  good     11255   0  \n",
       "\n",
       "[348 rows x 11 columns]"
      ]
     },
     "execution_count": 56,
     "metadata": {},
     "output_type": "execute_result"
    }
   ],
   "source": [
    "clus_info.set_index(keys='cluster_id', drop=False, inplace=True)\n",
    "#Reindex with missing value\n",
    "clus_info_all_ids = clus_info.reindex(range(np.max(clus_info.cluster_id)+1), fill_value=0, copy=True)\n",
    "clus_info_all_ids"
   ]
  },
  {
   "cell_type": "code",
   "execution_count": 44,
   "id": "7f75c27a",
   "metadata": {},
   "outputs": [
    {
     "data": {
      "text/plain": [
       "cluster_id\n",
       "0       mua\n",
       "1       mua\n",
       "2       mua\n",
       "3       mua\n",
       "4       mua\n",
       "       ... \n",
       "343    good\n",
       "344       0\n",
       "345       0\n",
       "346     mua\n",
       "347    good\n",
       "Name: group, Length: 348, dtype: object"
      ]
     },
     "execution_count": 44,
     "metadata": {},
     "output_type": "execute_result"
    }
   ],
   "source": [
    "clus_info_all_ids.group"
   ]
  },
  {
   "cell_type": "code",
   "execution_count": 45,
   "id": "38d5d1e7",
   "metadata": {},
   "outputs": [
    {
     "data": {
      "text/html": [
       "<div>\n",
       "<style scoped>\n",
       "    .dataframe tbody tr th:only-of-type {\n",
       "        vertical-align: middle;\n",
       "    }\n",
       "\n",
       "    .dataframe tbody tr th {\n",
       "        vertical-align: top;\n",
       "    }\n",
       "\n",
       "    .dataframe thead th {\n",
       "        text-align: right;\n",
       "    }\n",
       "</style>\n",
       "<table border=\"1\" class=\"dataframe\">\n",
       "  <thead>\n",
       "    <tr style=\"text-align: right;\">\n",
       "      <th></th>\n",
       "      <th>cluster_id</th>\n",
       "      <th>Amplitude</th>\n",
       "      <th>ContamPct</th>\n",
       "      <th>KSLabel</th>\n",
       "      <th>amp</th>\n",
       "      <th>ch</th>\n",
       "      <th>depth</th>\n",
       "      <th>fr</th>\n",
       "      <th>group</th>\n",
       "      <th>n_spikes</th>\n",
       "      <th>sh</th>\n",
       "    </tr>\n",
       "    <tr>\n",
       "      <th>cluster_id</th>\n",
       "      <th></th>\n",
       "      <th></th>\n",
       "      <th></th>\n",
       "      <th></th>\n",
       "      <th></th>\n",
       "      <th></th>\n",
       "      <th></th>\n",
       "      <th></th>\n",
       "      <th></th>\n",
       "      <th></th>\n",
       "      <th></th>\n",
       "    </tr>\n",
       "  </thead>\n",
       "  <tbody>\n",
       "    <tr>\n",
       "      <th>151</th>\n",
       "      <td>151</td>\n",
       "      <td>5179.3</td>\n",
       "      <td>8.0</td>\n",
       "      <td>good</td>\n",
       "      <td>123.251617</td>\n",
       "      <td>106</td>\n",
       "      <td>1080.0</td>\n",
       "      <td>0.782552</td>\n",
       "      <td>good</td>\n",
       "      <td>4331</td>\n",
       "      <td>0</td>\n",
       "    </tr>\n",
       "  </tbody>\n",
       "</table>\n",
       "</div>"
      ],
      "text/plain": [
       "            cluster_id  Amplitude  ContamPct KSLabel         amp   ch   depth  \\\n",
       "cluster_id                                                                      \n",
       "151                151     5179.3        8.0    good  123.251617  106  1080.0   \n",
       "\n",
       "                  fr group  n_spikes  sh  \n",
       "cluster_id                                \n",
       "151         0.782552  good      4331   0  "
      ]
     },
     "execution_count": 45,
     "metadata": {},
     "output_type": "execute_result"
    }
   ],
   "source": [
    "clus_info_all_ids[clus_info_all_ids['cluster_id']==151]"
   ]
  },
  {
   "cell_type": "markdown",
   "id": "bfa34119",
   "metadata": {},
   "source": [
    "Make clus_table array for C_waves"
   ]
  },
  {
   "cell_type": "code",
   "execution_count": 46,
   "id": "89a31361",
   "metadata": {},
   "outputs": [
    {
     "data": {
      "text/plain": [
       "(348, 2)"
      ]
     },
     "execution_count": 46,
     "metadata": {},
     "output_type": "execute_result"
    }
   ],
   "source": [
    "clus_table = clus_info_all_ids[['n_spikes','ch']]\n",
    "np.array(clus_table).shape"
   ]
  },
  {
   "cell_type": "code",
   "execution_count": 140,
   "id": "2538ac57",
   "metadata": {},
   "outputs": [],
   "source": [
    "np.save('M:\\\\analysis\\Axel_Bisi\\mice_data\\AB007\\Recording\\Ephys\\AB007_g0\\ks25\\clus_table.npy', np.array(clus_table.values, dtype=np.int32))"
   ]
  },
  {
   "cell_type": "code",
   "execution_count": 145,
   "id": "91fa3a0e",
   "metadata": {
    "scrolled": true
   },
   "outputs": [
    {
     "data": {
      "text/plain": [
       "array([4331,  106])"
      ]
     },
     "execution_count": 145,
     "metadata": {},
     "output_type": "execute_result"
    }
   ],
   "source": [
    "clus_tb = np.load('M:\\\\analysis\\Axel_Bisi\\mice_data\\AB007\\Recording\\Ephys\\AB007_g0\\ks25\\clus_table.npy')\n",
    "\n",
    "clus_tb[151]"
   ]
  }
 ],
 "metadata": {
  "kernelspec": {
   "display_name": "Python 3 (ipykernel)",
   "language": "python",
   "name": "python3"
  },
  "language_info": {
   "codemirror_mode": {
    "name": "ipython",
    "version": 3
   },
   "file_extension": ".py",
   "mimetype": "text/x-python",
   "name": "python",
   "nbconvert_exporter": "python",
   "pygments_lexer": "ipython3",
   "version": "3.9.7"
  }
 },
 "nbformat": 4,
 "nbformat_minor": 5
}
