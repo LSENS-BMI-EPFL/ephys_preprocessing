{
 "cells": [
  {
   "cell_type": "markdown",
   "id": "5f7e715e",
   "metadata": {},
   "source": [
    "# Compare Kilosort and Phy unit labels"
   ]
  },
  {
   "cell_type": "code",
   "execution_count": 3,
   "id": "763c4814",
   "metadata": {},
   "outputs": [],
   "source": [
    "import os\n",
    "import pandas as pd\n",
    "import seaborn as sns\n",
    "import matplotlib.pyplot as plt"
   ]
  },
  {
   "cell_type": "code",
   "execution_count": 7,
   "id": "b4ff93a9",
   "metadata": {},
   "outputs": [],
   "source": [
    "data_path = 'M:\\\\analysis\\Axel_Bisi\\mice_data\\AB017\\Recording\\Ephys\\catgt_AB017_g0\\AB017_g0_imec0\\ks25'\n"
   ]
  },
  {
   "cell_type": "markdown",
   "id": "e395f315",
   "metadata": {},
   "source": [
    "#### Load labels"
   ]
  },
  {
   "cell_type": "code",
   "execution_count": 8,
   "id": "882ad48b",
   "metadata": {},
   "outputs": [],
   "source": [
    "clus_phy = pd.read_csv(os.path.join(data_path,'cluster_group.tsv'), sep='\\t')\n",
    "clus_phy = clus_phy.rename(columns={'group':'label'})\n",
    "clus_phy['stage'] = 'curated'"
   ]
  },
  {
   "cell_type": "code",
   "execution_count": 9,
   "id": "8918bc4a",
   "metadata": {},
   "outputs": [
    {
     "data": {
      "text/html": [
       "<div>\n",
       "<style scoped>\n",
       "    .dataframe tbody tr th:only-of-type {\n",
       "        vertical-align: middle;\n",
       "    }\n",
       "\n",
       "    .dataframe tbody tr th {\n",
       "        vertical-align: top;\n",
       "    }\n",
       "\n",
       "    .dataframe thead th {\n",
       "        text-align: right;\n",
       "    }\n",
       "</style>\n",
       "<table border=\"1\" class=\"dataframe\">\n",
       "  <thead>\n",
       "    <tr style=\"text-align: right;\">\n",
       "      <th></th>\n",
       "      <th>cluster_id</th>\n",
       "      <th>label</th>\n",
       "      <th>stage</th>\n",
       "    </tr>\n",
       "  </thead>\n",
       "  <tbody>\n",
       "  </tbody>\n",
       "</table>\n",
       "</div>"
      ],
      "text/plain": [
       "Empty DataFrame\n",
       "Columns: [cluster_id, label, stage]\n",
       "Index: []"
      ]
     },
     "execution_count": 9,
     "metadata": {},
     "output_type": "execute_result"
    }
   ],
   "source": [
    "clus_phy"
   ]
  },
  {
   "cell_type": "code",
   "execution_count": 10,
   "id": "7a664587",
   "metadata": {},
   "outputs": [],
   "source": [
    "clus_ks =  pd.read_csv(os.path.join(data_path,'cluster_KSLabel.tsv'), sep='\\t')\n",
    "clus_ks = clus_ks.rename(columns={'KSLabel':'label'})\n",
    "clus_ks['stage'] = 'kilosort'"
   ]
  },
  {
   "cell_type": "code",
   "execution_count": 11,
   "id": "f569234e",
   "metadata": {},
   "outputs": [
    {
     "data": {
      "text/html": [
       "<div>\n",
       "<style scoped>\n",
       "    .dataframe tbody tr th:only-of-type {\n",
       "        vertical-align: middle;\n",
       "    }\n",
       "\n",
       "    .dataframe tbody tr th {\n",
       "        vertical-align: top;\n",
       "    }\n",
       "\n",
       "    .dataframe thead th {\n",
       "        text-align: right;\n",
       "    }\n",
       "</style>\n",
       "<table border=\"1\" class=\"dataframe\">\n",
       "  <thead>\n",
       "    <tr style=\"text-align: right;\">\n",
       "      <th></th>\n",
       "      <th>cluster_id</th>\n",
       "      <th>label</th>\n",
       "      <th>stage</th>\n",
       "    </tr>\n",
       "  </thead>\n",
       "  <tbody>\n",
       "    <tr>\n",
       "      <th>0</th>\n",
       "      <td>0</td>\n",
       "      <td>mua</td>\n",
       "      <td>kilosort</td>\n",
       "    </tr>\n",
       "    <tr>\n",
       "      <th>1</th>\n",
       "      <td>1</td>\n",
       "      <td>good</td>\n",
       "      <td>kilosort</td>\n",
       "    </tr>\n",
       "    <tr>\n",
       "      <th>2</th>\n",
       "      <td>2</td>\n",
       "      <td>mua</td>\n",
       "      <td>kilosort</td>\n",
       "    </tr>\n",
       "    <tr>\n",
       "      <th>3</th>\n",
       "      <td>3</td>\n",
       "      <td>mua</td>\n",
       "      <td>kilosort</td>\n",
       "    </tr>\n",
       "    <tr>\n",
       "      <th>4</th>\n",
       "      <td>4</td>\n",
       "      <td>mua</td>\n",
       "      <td>kilosort</td>\n",
       "    </tr>\n",
       "    <tr>\n",
       "      <th>...</th>\n",
       "      <td>...</td>\n",
       "      <td>...</td>\n",
       "      <td>...</td>\n",
       "    </tr>\n",
       "    <tr>\n",
       "      <th>800</th>\n",
       "      <td>839</td>\n",
       "      <td>mua</td>\n",
       "      <td>kilosort</td>\n",
       "    </tr>\n",
       "    <tr>\n",
       "      <th>801</th>\n",
       "      <td>840</td>\n",
       "      <td>mua</td>\n",
       "      <td>kilosort</td>\n",
       "    </tr>\n",
       "    <tr>\n",
       "      <th>802</th>\n",
       "      <td>841</td>\n",
       "      <td>mua</td>\n",
       "      <td>kilosort</td>\n",
       "    </tr>\n",
       "    <tr>\n",
       "      <th>803</th>\n",
       "      <td>842</td>\n",
       "      <td>mua</td>\n",
       "      <td>kilosort</td>\n",
       "    </tr>\n",
       "    <tr>\n",
       "      <th>804</th>\n",
       "      <td>843</td>\n",
       "      <td>mua</td>\n",
       "      <td>kilosort</td>\n",
       "    </tr>\n",
       "  </tbody>\n",
       "</table>\n",
       "<p>805 rows × 3 columns</p>\n",
       "</div>"
      ],
      "text/plain": [
       "     cluster_id label     stage\n",
       "0             0   mua  kilosort\n",
       "1             1  good  kilosort\n",
       "2             2   mua  kilosort\n",
       "3             3   mua  kilosort\n",
       "4             4   mua  kilosort\n",
       "..          ...   ...       ...\n",
       "800         839   mua  kilosort\n",
       "801         840   mua  kilosort\n",
       "802         841   mua  kilosort\n",
       "803         842   mua  kilosort\n",
       "804         843   mua  kilosort\n",
       "\n",
       "[805 rows x 3 columns]"
      ]
     },
     "execution_count": 11,
     "metadata": {},
     "output_type": "execute_result"
    }
   ],
   "source": [
    "clus_ks"
   ]
  },
  {
   "cell_type": "markdown",
   "id": "9cf5ce20",
   "metadata": {},
   "source": [
    "#### Concat dataframes"
   ]
  },
  {
   "cell_type": "code",
   "execution_count": 12,
   "id": "85743480",
   "metadata": {},
   "outputs": [
    {
     "data": {
      "text/html": [
       "<div>\n",
       "<style scoped>\n",
       "    .dataframe tbody tr th:only-of-type {\n",
       "        vertical-align: middle;\n",
       "    }\n",
       "\n",
       "    .dataframe tbody tr th {\n",
       "        vertical-align: top;\n",
       "    }\n",
       "\n",
       "    .dataframe thead th {\n",
       "        text-align: right;\n",
       "    }\n",
       "</style>\n",
       "<table border=\"1\" class=\"dataframe\">\n",
       "  <thead>\n",
       "    <tr style=\"text-align: right;\">\n",
       "      <th></th>\n",
       "      <th>cluster_id</th>\n",
       "      <th>label</th>\n",
       "      <th>stage</th>\n",
       "    </tr>\n",
       "  </thead>\n",
       "  <tbody>\n",
       "    <tr>\n",
       "      <th>0</th>\n",
       "      <td>0</td>\n",
       "      <td>mua</td>\n",
       "      <td>kilosort</td>\n",
       "    </tr>\n",
       "    <tr>\n",
       "      <th>1</th>\n",
       "      <td>1</td>\n",
       "      <td>good</td>\n",
       "      <td>kilosort</td>\n",
       "    </tr>\n",
       "    <tr>\n",
       "      <th>2</th>\n",
       "      <td>2</td>\n",
       "      <td>mua</td>\n",
       "      <td>kilosort</td>\n",
       "    </tr>\n",
       "    <tr>\n",
       "      <th>3</th>\n",
       "      <td>3</td>\n",
       "      <td>mua</td>\n",
       "      <td>kilosort</td>\n",
       "    </tr>\n",
       "    <tr>\n",
       "      <th>4</th>\n",
       "      <td>4</td>\n",
       "      <td>mua</td>\n",
       "      <td>kilosort</td>\n",
       "    </tr>\n",
       "    <tr>\n",
       "      <th>...</th>\n",
       "      <td>...</td>\n",
       "      <td>...</td>\n",
       "      <td>...</td>\n",
       "    </tr>\n",
       "    <tr>\n",
       "      <th>800</th>\n",
       "      <td>839</td>\n",
       "      <td>mua</td>\n",
       "      <td>kilosort</td>\n",
       "    </tr>\n",
       "    <tr>\n",
       "      <th>801</th>\n",
       "      <td>840</td>\n",
       "      <td>mua</td>\n",
       "      <td>kilosort</td>\n",
       "    </tr>\n",
       "    <tr>\n",
       "      <th>802</th>\n",
       "      <td>841</td>\n",
       "      <td>mua</td>\n",
       "      <td>kilosort</td>\n",
       "    </tr>\n",
       "    <tr>\n",
       "      <th>803</th>\n",
       "      <td>842</td>\n",
       "      <td>mua</td>\n",
       "      <td>kilosort</td>\n",
       "    </tr>\n",
       "    <tr>\n",
       "      <th>804</th>\n",
       "      <td>843</td>\n",
       "      <td>mua</td>\n",
       "      <td>kilosort</td>\n",
       "    </tr>\n",
       "  </tbody>\n",
       "</table>\n",
       "<p>805 rows × 3 columns</p>\n",
       "</div>"
      ],
      "text/plain": [
       "    cluster_id label     stage\n",
       "0            0   mua  kilosort\n",
       "1            1  good  kilosort\n",
       "2            2   mua  kilosort\n",
       "3            3   mua  kilosort\n",
       "4            4   mua  kilosort\n",
       "..         ...   ...       ...\n",
       "800        839   mua  kilosort\n",
       "801        840   mua  kilosort\n",
       "802        841   mua  kilosort\n",
       "803        842   mua  kilosort\n",
       "804        843   mua  kilosort\n",
       "\n",
       "[805 rows x 3 columns]"
      ]
     },
     "execution_count": 12,
     "metadata": {},
     "output_type": "execute_result"
    }
   ],
   "source": [
    "clus_merge = pd.concat([clus_phy,clus_ks])\n",
    "#clus_merge=clus_merge.rename(columns={'group': 'curated', 'KSLabel': 'kilosort'})\n",
    "clus_merge"
   ]
  },
  {
   "cell_type": "markdown",
   "id": "9fa04804",
   "metadata": {},
   "source": [
    "#### Plot number of labels"
   ]
  },
  {
   "cell_type": "code",
   "execution_count": 13,
   "id": "94fae03d",
   "metadata": {
    "scrolled": false
   },
   "outputs": [
    {
     "data": {
      "image/png": "[encoded data removed]",
      "text/plain": [
       "<Figure size 600x400 with 1 Axes>"
      ]
     },
     "metadata": {
      "needs_background": "light"
     },
     "output_type": "display_data"
    }
   ],
   "source": [
    "# Draw a nested barplot by species and sex\n",
    "fig, ax = plt.subplots(1,1, dpi=100)\n",
    "ax = sns.countplot(x='label', hue='stage', \n",
    "                   hue_order=['kilosort','curated'],\n",
    "                   order=['mua','good','noise'],\n",
    "                   palette=sns.color_palette(\"Paired\"),\n",
    "                data=clus_merge, ax=ax)\n",
    "ax.legend(loc='upper right',frameon=True,title=None, facecolor='w',fontsize=15)\n",
    "ax.set_ylabel('Unit count', fontsize=20)\n",
    "ax.set_xlabel('Unit label', fontsize=20)\n",
    "for container in ax.containers:\n",
    "    ax.bar_label(container)\n",
    "sns.despine(left=True, bottom=True)\n"
   ]
  },
  {
   "cell_type": "code",
   "execution_count": null,
   "id": "5bcb7c9c",
   "metadata": {},
   "outputs": [],
   "source": []
  }
 ],
 "metadata": {
  "kernelspec": {
   "display_name": "Python 3 (ipykernel)",
   "language": "python",
   "name": "python3"
  },
  "language_info": {
   "codemirror_mode": {
    "name": "ipython",
    "version": 3
   },
   "file_extension": ".py",
   "mimetype": "text/x-python",
   "name": "python",
   "nbconvert_exporter": "python",
   "pygments_lexer": "ipython3",
   "version": "3.9.7"
  }
 },
 "nbformat": 4,
 "nbformat_minor": 5
}
